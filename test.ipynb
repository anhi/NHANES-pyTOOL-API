{
 "cells": [
  {
   "cell_type": "code",
   "execution_count": 1,
   "metadata": {},
   "outputs": [],
   "source": [
    "import pandas \n",
    "import numpy\n",
    "\n",
    "from NHANES_data_API import NHANESDataAPI"
   ]
  },
  {
   "cell_type": "code",
   "execution_count": 2,
   "metadata": {},
   "outputs": [
    {
     "name": "stdout",
     "output_type": "stream",
     "text": [
      "Available NHANES data categories:\n",
      "['demographics', 'dietary', 'examination', 'laboratory', 'questionnaire', 'limitedaccess']\n"
     ]
    }
   ],
   "source": [
    "#test data categories\n",
    "nhanes_api = NHANESDataAPI()\n",
    "categories = nhanes_api.list_data_categories()\n",
    "print(\"Available NHANES data categories:\")\n",
    "print(categories)\n"
   ]
  },
  {
   "cell_type": "code",
   "execution_count": 3,
   "metadata": {},
   "outputs": [
    {
     "data": {
      "text/html": [
       "<div>\n",
       "<style scoped>\n",
       "    .dataframe tbody tr th:only-of-type {\n",
       "        vertical-align: middle;\n",
       "    }\n",
       "\n",
       "    .dataframe tbody tr th {\n",
       "        vertical-align: top;\n",
       "    }\n",
       "\n",
       "    .dataframe thead th {\n",
       "        text-align: right;\n",
       "    }\n",
       "</style>\n",
       "<table border=\"1\" class=\"dataframe\">\n",
       "  <thead>\n",
       "    <tr style=\"text-align: right;\">\n",
       "      <th></th>\n",
       "      <th>Variable Name</th>\n",
       "      <th>Variable Description</th>\n",
       "      <th>Data File Name</th>\n",
       "      <th>Data File Description</th>\n",
       "      <th>Years</th>\n",
       "    </tr>\n",
       "  </thead>\n",
       "  <tbody>\n",
       "    <tr>\n",
       "      <th>0</th>\n",
       "      <td>AIALANG</td>\n",
       "      <td>Language of the MEC ACASI Interview Instrument</td>\n",
       "      <td>DEMO_D</td>\n",
       "      <td>Demographic Variables &amp; Sample Weights</td>\n",
       "      <td>2005-2006</td>\n",
       "    </tr>\n",
       "    <tr>\n",
       "      <th>1</th>\n",
       "      <td>DMDBORN</td>\n",
       "      <td>In what country {were you/was SP} born?</td>\n",
       "      <td>DEMO_D</td>\n",
       "      <td>Demographic Variables &amp; Sample Weights</td>\n",
       "      <td>2005-2006</td>\n",
       "    </tr>\n",
       "    <tr>\n",
       "      <th>2</th>\n",
       "      <td>DMDCITZN</td>\n",
       "      <td>{Are you/Is SP} a citizen of the United States...</td>\n",
       "      <td>DEMO_D</td>\n",
       "      <td>Demographic Variables &amp; Sample Weights</td>\n",
       "      <td>2005-2006</td>\n",
       "    </tr>\n",
       "    <tr>\n",
       "      <th>3</th>\n",
       "      <td>DMDEDUC2</td>\n",
       "      <td>(SP Interview Version) What is the highest gra...</td>\n",
       "      <td>DEMO_D</td>\n",
       "      <td>Demographic Variables &amp; Sample Weights</td>\n",
       "      <td>2005-2006</td>\n",
       "    </tr>\n",
       "    <tr>\n",
       "      <th>4</th>\n",
       "      <td>DMDEDUC3</td>\n",
       "      <td>(SP Interview Version) What is the highest gra...</td>\n",
       "      <td>DEMO_D</td>\n",
       "      <td>Demographic Variables &amp; Sample Weights</td>\n",
       "      <td>2005-2006</td>\n",
       "    </tr>\n",
       "    <tr>\n",
       "      <th>...</th>\n",
       "      <td>...</td>\n",
       "      <td>...</td>\n",
       "      <td>...</td>\n",
       "      <td>...</td>\n",
       "      <td>...</td>\n",
       "    </tr>\n",
       "    <tr>\n",
       "      <th>537</th>\n",
       "      <td>SIAINTRP</td>\n",
       "      <td>Was an interpreter used to conduct the Sample ...</td>\n",
       "      <td>DEMO_J</td>\n",
       "      <td>Demographic Variables and Sample Weights</td>\n",
       "      <td>2017-2018</td>\n",
       "    </tr>\n",
       "    <tr>\n",
       "      <th>538</th>\n",
       "      <td>SIALANG</td>\n",
       "      <td>Language of the Sample Person Interview Instru...</td>\n",
       "      <td>DEMO_J</td>\n",
       "      <td>Demographic Variables and Sample Weights</td>\n",
       "      <td>2017-2018</td>\n",
       "    </tr>\n",
       "    <tr>\n",
       "      <th>539</th>\n",
       "      <td>SIAPROXY</td>\n",
       "      <td>Was a Proxy respondent used in conducting the ...</td>\n",
       "      <td>DEMO_J</td>\n",
       "      <td>Demographic Variables and Sample Weights</td>\n",
       "      <td>2017-2018</td>\n",
       "    </tr>\n",
       "    <tr>\n",
       "      <th>540</th>\n",
       "      <td>WTINT2YR</td>\n",
       "      <td>Full sample 2 year interview weight.</td>\n",
       "      <td>DEMO_J</td>\n",
       "      <td>Demographic Variables and Sample Weights</td>\n",
       "      <td>2017-2018</td>\n",
       "    </tr>\n",
       "    <tr>\n",
       "      <th>541</th>\n",
       "      <td>WTMEC2YR</td>\n",
       "      <td>Full sample 2 year MEC exam weight.</td>\n",
       "      <td>DEMO_J</td>\n",
       "      <td>Demographic Variables and Sample Weights</td>\n",
       "      <td>2017-2018</td>\n",
       "    </tr>\n",
       "  </tbody>\n",
       "</table>\n",
       "<p>542 rows × 5 columns</p>\n",
       "</div>"
      ],
      "text/plain": [
       "    Variable Name                               Variable Description  \\\n",
       "0         AIALANG     Language of the MEC ACASI Interview Instrument   \n",
       "1         DMDBORN            In what country {were you/was SP} born?   \n",
       "2        DMDCITZN  {Are you/Is SP} a citizen of the United States...   \n",
       "3        DMDEDUC2  (SP Interview Version) What is the highest gra...   \n",
       "4        DMDEDUC3  (SP Interview Version) What is the highest gra...   \n",
       "..            ...                                                ...   \n",
       "537      SIAINTRP  Was an interpreter used to conduct the Sample ...   \n",
       "538       SIALANG  Language of the Sample Person Interview Instru...   \n",
       "539      SIAPROXY  Was a Proxy respondent used in conducting the ...   \n",
       "540      WTINT2YR               Full sample 2 year interview weight.   \n",
       "541      WTMEC2YR                Full sample 2 year MEC exam weight.   \n",
       "\n",
       "    Data File Name                     Data File Description      Years  \n",
       "0           DEMO_D    Demographic Variables & Sample Weights  2005-2006  \n",
       "1           DEMO_D    Demographic Variables & Sample Weights  2005-2006  \n",
       "2           DEMO_D    Demographic Variables & Sample Weights  2005-2006  \n",
       "3           DEMO_D    Demographic Variables & Sample Weights  2005-2006  \n",
       "4           DEMO_D    Demographic Variables & Sample Weights  2005-2006  \n",
       "..             ...                                       ...        ...  \n",
       "537         DEMO_J  Demographic Variables and Sample Weights  2017-2018  \n",
       "538         DEMO_J  Demographic Variables and Sample Weights  2017-2018  \n",
       "539         DEMO_J  Demographic Variables and Sample Weights  2017-2018  \n",
       "540         DEMO_J  Demographic Variables and Sample Weights  2017-2018  \n",
       "541         DEMO_J  Demographic Variables and Sample Weights  2017-2018  \n",
       "\n",
       "[542 rows x 5 columns]"
      ]
     },
     "execution_count": 3,
     "metadata": {},
     "output_type": "execute_result"
    }
   ],
   "source": [
    "nhanes_api._retrieve_variable_table(categories[0])"
   ]
  },
  {
   "cell_type": "code",
   "execution_count": 4,
   "metadata": {},
   "outputs": [
    {
     "data": {
      "text/plain": [
       "['Demographic Variables & Sample Weights',\n",
       " 'Demographic Variables and Sample Weights']"
      ]
     },
     "execution_count": 4,
     "metadata": {},
     "output_type": "execute_result"
    }
   ],
   "source": [
    "nhanes_api.list_file_names(categories[0])"
   ]
  },
  {
   "cell_type": "code",
   "execution_count": null,
   "metadata": {},
   "outputs": [],
   "source": []
  }
 ],
 "metadata": {
  "kernelspec": {
   "display_name": "git_projects_env",
   "language": "python",
   "name": "python3"
  },
  "language_info": {
   "codemirror_mode": {
    "name": "ipython",
    "version": 3
   },
   "file_extension": ".py",
   "mimetype": "text/x-python",
   "name": "python",
   "nbconvert_exporter": "python",
   "pygments_lexer": "ipython3",
   "version": "3.11.5"
  }
 },
 "nbformat": 4,
 "nbformat_minor": 2
}
