{
 "cells": [
  {
   "cell_type": "code",
   "execution_count": 1,
   "metadata": {},
   "outputs": [],
   "source": [
    "import pandas as pd\n",
    "import numpy as np\n",
    "\n",
    "from NHANES_data_API import NHANESDataAPI"
   ]
  },
  {
   "cell_type": "code",
   "execution_count": 2,
   "metadata": {},
   "outputs": [
    {
     "name": "stdout",
     "output_type": "stream",
     "text": [
      "Available NHANES data categories:\n",
      "['demographics', 'dietary', 'examination', 'laboratory', 'questionnaire', 'limitedaccess']\n"
     ]
    }
   ],
   "source": [
    "#test data categories\n",
    "nhanes_api = NHANESDataAPI()\n",
    "categories = nhanes_api.list_data_categories()\n",
    "print(\"Available NHANES data categories:\")\n",
    "print(categories)\n"
   ]
  },
  {
   "cell_type": "code",
   "execution_count": 3,
   "metadata": {},
   "outputs": [
    {
     "data": {
      "text/plain": [
       "['Demographic Variables & Sample Weights']"
      ]
     },
     "execution_count": 3,
     "metadata": {},
     "output_type": "execute_result"
    }
   ],
   "source": [
    "nhanes_api.list_file_names('demographics')"
   ]
  },
  {
   "cell_type": "code",
   "execution_count": 4,
   "metadata": {},
   "outputs": [],
   "source": [
    "common_variable, uncommon_variable, _ = nhanes_api.common_variables('demographics', cycle_years = ['1999-2018'])"
   ]
  },
  {
   "cell_type": "code",
   "execution_count": 5,
   "metadata": {},
   "outputs": [],
   "source": [
    "data = nhanes_api.retrieve_data('demographics', ['1999-2018'], 'Demographic Variables & Sample Weights',include_uncommon_variables=False)"
   ]
  },
  {
   "cell_type": "code",
   "execution_count": 6,
   "metadata": {},
   "outputs": [
    {
     "data": {
      "text/html": [
       "<div>\n",
       "<style scoped>\n",
       "    .dataframe tbody tr th:only-of-type {\n",
       "        vertical-align: middle;\n",
       "    }\n",
       "\n",
       "    .dataframe tbody tr th {\n",
       "        vertical-align: top;\n",
       "    }\n",
       "\n",
       "    .dataframe thead th {\n",
       "        text-align: right;\n",
       "    }\n",
       "</style>\n",
       "<table border=\"1\" class=\"dataframe\">\n",
       "  <thead>\n",
       "    <tr style=\"text-align: right;\">\n",
       "      <th></th>\n",
       "      <th>SDMVPSU</th>\n",
       "      <th>DMDHHSIZ</th>\n",
       "      <th>RIDRETH1</th>\n",
       "      <th>DMDCITZN</th>\n",
       "      <th>SEQN</th>\n",
       "      <th>DMDEDUC3</th>\n",
       "      <th>SDDSRVYR</th>\n",
       "      <th>RIDAGEYR</th>\n",
       "      <th>RIDEXMON</th>\n",
       "      <th>DMDYRSUS</th>\n",
       "      <th>...</th>\n",
       "      <th>RIAGENDR</th>\n",
       "      <th>DMDMARTL</th>\n",
       "      <th>WTMEC2YR</th>\n",
       "      <th>RIDAGEMN</th>\n",
       "      <th>DMDEDUC2</th>\n",
       "      <th>DMDHRGND</th>\n",
       "      <th>WTINT2YR</th>\n",
       "      <th>RIDSTATR</th>\n",
       "      <th>SDMVSTRA</th>\n",
       "      <th>year</th>\n",
       "    </tr>\n",
       "  </thead>\n",
       "  <tbody>\n",
       "    <tr>\n",
       "      <th>0</th>\n",
       "      <td>1.0</td>\n",
       "      <td>3.0</td>\n",
       "      <td>4.0</td>\n",
       "      <td>1.0</td>\n",
       "      <td>1.0</td>\n",
       "      <td>NaN</td>\n",
       "      <td>1.0</td>\n",
       "      <td>2.0</td>\n",
       "      <td>2.0</td>\n",
       "      <td>NaN</td>\n",
       "      <td>...</td>\n",
       "      <td>2.0</td>\n",
       "      <td>NaN</td>\n",
       "      <td>10982.898896</td>\n",
       "      <td>29.0</td>\n",
       "      <td>NaN</td>\n",
       "      <td>2.0</td>\n",
       "      <td>9727.078709</td>\n",
       "      <td>2.0</td>\n",
       "      <td>5.0</td>\n",
       "      <td>1999-2000</td>\n",
       "    </tr>\n",
       "    <tr>\n",
       "      <th>1</th>\n",
       "      <td>3.0</td>\n",
       "      <td>1.0</td>\n",
       "      <td>3.0</td>\n",
       "      <td>1.0</td>\n",
       "      <td>2.0</td>\n",
       "      <td>NaN</td>\n",
       "      <td>1.0</td>\n",
       "      <td>77.0</td>\n",
       "      <td>2.0</td>\n",
       "      <td>NaN</td>\n",
       "      <td>...</td>\n",
       "      <td>1.0</td>\n",
       "      <td>NaN</td>\n",
       "      <td>28325.384898</td>\n",
       "      <td>926.0</td>\n",
       "      <td>5.0</td>\n",
       "      <td>1.0</td>\n",
       "      <td>26678.636376</td>\n",
       "      <td>2.0</td>\n",
       "      <td>1.0</td>\n",
       "      <td>1999-2000</td>\n",
       "    </tr>\n",
       "    <tr>\n",
       "      <th>2</th>\n",
       "      <td>2.0</td>\n",
       "      <td>4.0</td>\n",
       "      <td>3.0</td>\n",
       "      <td>2.0</td>\n",
       "      <td>3.0</td>\n",
       "      <td>3.0</td>\n",
       "      <td>1.0</td>\n",
       "      <td>10.0</td>\n",
       "      <td>1.0</td>\n",
       "      <td>2.0</td>\n",
       "      <td>...</td>\n",
       "      <td>2.0</td>\n",
       "      <td>NaN</td>\n",
       "      <td>46192.256945</td>\n",
       "      <td>125.0</td>\n",
       "      <td>NaN</td>\n",
       "      <td>1.0</td>\n",
       "      <td>43621.680548</td>\n",
       "      <td>2.0</td>\n",
       "      <td>7.0</td>\n",
       "      <td>1999-2000</td>\n",
       "    </tr>\n",
       "    <tr>\n",
       "      <th>3</th>\n",
       "      <td>1.0</td>\n",
       "      <td>7.0</td>\n",
       "      <td>4.0</td>\n",
       "      <td>1.0</td>\n",
       "      <td>4.0</td>\n",
       "      <td>NaN</td>\n",
       "      <td>1.0</td>\n",
       "      <td>1.0</td>\n",
       "      <td>2.0</td>\n",
       "      <td>NaN</td>\n",
       "      <td>...</td>\n",
       "      <td>1.0</td>\n",
       "      <td>NaN</td>\n",
       "      <td>10251.260020</td>\n",
       "      <td>22.0</td>\n",
       "      <td>NaN</td>\n",
       "      <td>2.0</td>\n",
       "      <td>10346.119327</td>\n",
       "      <td>2.0</td>\n",
       "      <td>2.0</td>\n",
       "      <td>1999-2000</td>\n",
       "    </tr>\n",
       "    <tr>\n",
       "      <th>4</th>\n",
       "      <td>2.0</td>\n",
       "      <td>3.0</td>\n",
       "      <td>3.0</td>\n",
       "      <td>1.0</td>\n",
       "      <td>5.0</td>\n",
       "      <td>NaN</td>\n",
       "      <td>1.0</td>\n",
       "      <td>49.0</td>\n",
       "      <td>2.0</td>\n",
       "      <td>NaN</td>\n",
       "      <td>...</td>\n",
       "      <td>1.0</td>\n",
       "      <td>1.0</td>\n",
       "      <td>99445.065735</td>\n",
       "      <td>597.0</td>\n",
       "      <td>5.0</td>\n",
       "      <td>2.0</td>\n",
       "      <td>91050.846620</td>\n",
       "      <td>2.0</td>\n",
       "      <td>8.0</td>\n",
       "      <td>1999-2000</td>\n",
       "    </tr>\n",
       "  </tbody>\n",
       "</table>\n",
       "<p>5 rows × 22 columns</p>\n",
       "</div>"
      ],
      "text/plain": [
       "   SDMVPSU  DMDHHSIZ  RIDRETH1  DMDCITZN  SEQN  DMDEDUC3  SDDSRVYR  RIDAGEYR  \\\n",
       "0      1.0       3.0       4.0       1.0   1.0       NaN       1.0       2.0   \n",
       "1      3.0       1.0       3.0       1.0   2.0       NaN       1.0      77.0   \n",
       "2      2.0       4.0       3.0       2.0   3.0       3.0       1.0      10.0   \n",
       "3      1.0       7.0       4.0       1.0   4.0       NaN       1.0       1.0   \n",
       "4      2.0       3.0       3.0       1.0   5.0       NaN       1.0      49.0   \n",
       "\n",
       "   RIDEXMON  DMDYRSUS  ...  RIAGENDR  DMDMARTL      WTMEC2YR  RIDAGEMN  \\\n",
       "0       2.0       NaN  ...       2.0       NaN  10982.898896      29.0   \n",
       "1       2.0       NaN  ...       1.0       NaN  28325.384898     926.0   \n",
       "2       1.0       2.0  ...       2.0       NaN  46192.256945     125.0   \n",
       "3       2.0       NaN  ...       1.0       NaN  10251.260020      22.0   \n",
       "4       2.0       NaN  ...       1.0       1.0  99445.065735     597.0   \n",
       "\n",
       "   DMDEDUC2  DMDHRGND      WTINT2YR  RIDSTATR  SDMVSTRA       year  \n",
       "0       NaN       2.0   9727.078709       2.0       5.0  1999-2000  \n",
       "1       5.0       1.0  26678.636376       2.0       1.0  1999-2000  \n",
       "2       NaN       1.0  43621.680548       2.0       7.0  1999-2000  \n",
       "3       NaN       2.0  10346.119327       2.0       2.0  1999-2000  \n",
       "4       5.0       2.0  91050.846620       2.0       8.0  1999-2000  \n",
       "\n",
       "[5 rows x 22 columns]"
      ]
     },
     "execution_count": 6,
     "metadata": {},
     "output_type": "execute_result"
    }
   ],
   "source": [
    "data.head()"
   ]
  },
  {
   "cell_type": "code",
   "execution_count": 7,
   "metadata": {},
   "outputs": [
    {
     "data": {
      "text/plain": [
       "year\n",
       "2001-2002    11039\n",
       "2009-2010    10537\n",
       "2005-2006    10348\n",
       "2013-2014    10175\n",
       "2007-2008    10149\n",
       "2003-2004    10122\n",
       "2015-2016     9971\n",
       "1999-2000     9965\n",
       "2011-2012     9756\n",
       "2017-2018     9254\n",
       "Name: count, dtype: int64"
      ]
     },
     "execution_count": 7,
     "metadata": {},
     "output_type": "execute_result"
    }
   ],
   "source": [
    "data['year'].value_counts()"
   ]
  },
  {
   "cell_type": "code",
   "execution_count": null,
   "metadata": {},
   "outputs": [],
   "source": []
  }
 ],
 "metadata": {
  "kernelspec": {
   "display_name": "git_projects_env",
   "language": "python",
   "name": "python3"
  },
  "language_info": {
   "codemirror_mode": {
    "name": "ipython",
    "version": 3
   },
   "file_extension": ".py",
   "mimetype": "text/x-python",
   "name": "python",
   "nbconvert_exporter": "python",
   "pygments_lexer": "ipython3",
   "version": "3.11.5"
  }
 },
 "nbformat": 4,
 "nbformat_minor": 2
}
